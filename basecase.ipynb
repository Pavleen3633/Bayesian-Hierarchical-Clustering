{
 "cells": [
  {
   "cell_type": "markdown",
   "metadata": {},
   "source": [
    "## Bayesian Hierarchical Clustering (Pavleen Kaur-873230233)"
   ]
  },
  {
   "cell_type": "markdown",
   "metadata": {},
   "source": [
    "## Base Case to understand the code function and results"
   ]
  },
  {
   "cell_type": "code",
   "execution_count": 1,
   "metadata": {},
   "outputs": [
    {
     "name": "stderr",
     "output_type": "stream",
     "text": [
      "Bioconductor version 3.12 (BiocManager 1.30.10), R 4.0.3 (2020-10-10)\n",
      "\n"
     ]
    }
   ],
   "source": [
    "#Downloading BHC package\n",
    "\n",
    "if (!requireNamespace(\"BiocManager\", quietly = TRUE))\n",
    "    install.packages(\"BiocManager\")\n",
    "BiocManager::install(version = \"3.12\")"
   ]
  },
  {
   "cell_type": "code",
   "execution_count": 2,
   "metadata": {},
   "outputs": [
    {
     "name": "stderr",
     "output_type": "stream",
     "text": [
      "Bioconductor version 3.12 (BiocManager 1.30.10), R 4.0.3 (2020-10-10)\n",
      "\n"
     ]
    }
   ],
   "source": [
    "if (!requireNamespace(\"BiocManager\", quietly = TRUE))\n",
    "    install.packages(\"BiocManager\")\n",
    "BiocManager::install()"
   ]
  },
  {
   "cell_type": "code",
   "execution_count": 7,
   "metadata": {},
   "outputs": [
    {
     "name": "stderr",
     "output_type": "stream",
     "text": [
      "Installing package into 'C:/Users/pavle/OneDrive/Documents/R/win-library/4.0'\n",
      "(as 'lib' is unspecified)\n",
      "\n",
      "also installing the dependency 'findpython'\n",
      "\n",
      "\n"
     ]
    },
    {
     "name": "stdout",
     "output_type": "stream",
     "text": [
      "package 'findpython' successfully unpacked and MD5 sums checked\n",
      "package 'argparse' successfully unpacked and MD5 sums checked\n",
      "\n",
      "The downloaded binary packages are in\n",
      "\tC:\\Users\\pavle\\AppData\\Local\\Temp\\RtmpWSqRiJ\\downloaded_packages\n"
     ]
    }
   ],
   "source": [
    "install.packages(\"argparse\")"
   ]
  },
  {
   "cell_type": "code",
   "execution_count": 1,
   "metadata": {},
   "outputs": [],
   "source": [
    "#list of all libraries needed for the code\n",
    "library(BHC)\n",
    "library(argparse)\n",
    "library(RColorBrewer)\n",
    "library(BHC)\n",
    "library(parallel)\n"
   ]
  },
  {
   "cell_type": "code",
   "execution_count": 5,
   "metadata": {},
   "outputs": [
    {
     "data": {
      "text/html": [
       "<table>\n",
       "<caption>A matrix: 15 × 10 of type dbl</caption>\n",
       "<tbody>\n",
       "\t<tr><td>0</td><td>1</td><td>0</td><td>1</td><td>0</td><td>1</td><td>0</td><td>1</td><td>0</td><td>1</td></tr>\n",
       "\t<tr><td>1</td><td>1</td><td>1</td><td>1</td><td>1</td><td>1</td><td>1</td><td>1</td><td>1</td><td>1</td></tr>\n",
       "\t<tr><td>1</td><td>1</td><td>1</td><td>1</td><td>1</td><td>1</td><td>1</td><td>1</td><td>1</td><td>1</td></tr>\n",
       "\t<tr><td>0</td><td>1</td><td>0</td><td>1</td><td>0</td><td>1</td><td>0</td><td>1</td><td>0</td><td>1</td></tr>\n",
       "\t<tr><td>1</td><td>1</td><td>1</td><td>1</td><td>1</td><td>1</td><td>1</td><td>1</td><td>1</td><td>1</td></tr>\n",
       "\t<tr><td>1</td><td>1</td><td>1</td><td>1</td><td>1</td><td>1</td><td>1</td><td>1</td><td>1</td><td>1</td></tr>\n",
       "\t<tr><td>1</td><td>0</td><td>1</td><td>0</td><td>1</td><td>0</td><td>1</td><td>0</td><td>1</td><td>0</td></tr>\n",
       "\t<tr><td>1</td><td>0</td><td>1</td><td>0</td><td>1</td><td>0</td><td>1</td><td>0</td><td>1</td><td>0</td></tr>\n",
       "\t<tr><td>0</td><td>1</td><td>0</td><td>1</td><td>0</td><td>1</td><td>0</td><td>1</td><td>0</td><td>1</td></tr>\n",
       "\t<tr><td>0</td><td>0</td><td>0</td><td>0</td><td>0</td><td>0</td><td>0</td><td>0</td><td>0</td><td>0</td></tr>\n",
       "\t<tr><td>0</td><td>0</td><td>0</td><td>0</td><td>0</td><td>0</td><td>0</td><td>0</td><td>0</td><td>0</td></tr>\n",
       "\t<tr><td>0</td><td>0</td><td>0</td><td>0</td><td>0</td><td>0</td><td>0</td><td>0</td><td>0</td><td>0</td></tr>\n",
       "\t<tr><td>0</td><td>0</td><td>0</td><td>0</td><td>0</td><td>0</td><td>0</td><td>0</td><td>0</td><td>0</td></tr>\n",
       "\t<tr><td>0</td><td>0</td><td>0</td><td>0</td><td>0</td><td>0</td><td>0</td><td>0</td><td>0</td><td>0</td></tr>\n",
       "\t<tr><td>0</td><td>0</td><td>0</td><td>0</td><td>0</td><td>0</td><td>0</td><td>0</td><td>0</td><td>0</td></tr>\n",
       "</tbody>\n",
       "</table>\n"
      ],
      "text/latex": [
       "A matrix: 15 × 10 of type dbl\n",
       "\\begin{tabular}{llllllllll}\n",
       "\t 0 & 1 & 0 & 1 & 0 & 1 & 0 & 1 & 0 & 1\\\\\n",
       "\t 1 & 1 & 1 & 1 & 1 & 1 & 1 & 1 & 1 & 1\\\\\n",
       "\t 1 & 1 & 1 & 1 & 1 & 1 & 1 & 1 & 1 & 1\\\\\n",
       "\t 0 & 1 & 0 & 1 & 0 & 1 & 0 & 1 & 0 & 1\\\\\n",
       "\t 1 & 1 & 1 & 1 & 1 & 1 & 1 & 1 & 1 & 1\\\\\n",
       "\t 1 & 1 & 1 & 1 & 1 & 1 & 1 & 1 & 1 & 1\\\\\n",
       "\t 1 & 0 & 1 & 0 & 1 & 0 & 1 & 0 & 1 & 0\\\\\n",
       "\t 1 & 0 & 1 & 0 & 1 & 0 & 1 & 0 & 1 & 0\\\\\n",
       "\t 0 & 1 & 0 & 1 & 0 & 1 & 0 & 1 & 0 & 1\\\\\n",
       "\t 0 & 0 & 0 & 0 & 0 & 0 & 0 & 0 & 0 & 0\\\\\n",
       "\t 0 & 0 & 0 & 0 & 0 & 0 & 0 & 0 & 0 & 0\\\\\n",
       "\t 0 & 0 & 0 & 0 & 0 & 0 & 0 & 0 & 0 & 0\\\\\n",
       "\t 0 & 0 & 0 & 0 & 0 & 0 & 0 & 0 & 0 & 0\\\\\n",
       "\t 0 & 0 & 0 & 0 & 0 & 0 & 0 & 0 & 0 & 0\\\\\n",
       "\t 0 & 0 & 0 & 0 & 0 & 0 & 0 & 0 & 0 & 0\\\\\n",
       "\\end{tabular}\n"
      ],
      "text/markdown": [
       "\n",
       "A matrix: 15 × 10 of type dbl\n",
       "\n",
       "| 0 | 1 | 0 | 1 | 0 | 1 | 0 | 1 | 0 | 1 |\n",
       "| 1 | 1 | 1 | 1 | 1 | 1 | 1 | 1 | 1 | 1 |\n",
       "| 1 | 1 | 1 | 1 | 1 | 1 | 1 | 1 | 1 | 1 |\n",
       "| 0 | 1 | 0 | 1 | 0 | 1 | 0 | 1 | 0 | 1 |\n",
       "| 1 | 1 | 1 | 1 | 1 | 1 | 1 | 1 | 1 | 1 |\n",
       "| 1 | 1 | 1 | 1 | 1 | 1 | 1 | 1 | 1 | 1 |\n",
       "| 1 | 0 | 1 | 0 | 1 | 0 | 1 | 0 | 1 | 0 |\n",
       "| 1 | 0 | 1 | 0 | 1 | 0 | 1 | 0 | 1 | 0 |\n",
       "| 0 | 1 | 0 | 1 | 0 | 1 | 0 | 1 | 0 | 1 |\n",
       "| 0 | 0 | 0 | 0 | 0 | 0 | 0 | 0 | 0 | 0 |\n",
       "| 0 | 0 | 0 | 0 | 0 | 0 | 0 | 0 | 0 | 0 |\n",
       "| 0 | 0 | 0 | 0 | 0 | 0 | 0 | 0 | 0 | 0 |\n",
       "| 0 | 0 | 0 | 0 | 0 | 0 | 0 | 0 | 0 | 0 |\n",
       "| 0 | 0 | 0 | 0 | 0 | 0 | 0 | 0 | 0 | 0 |\n",
       "| 0 | 0 | 0 | 0 | 0 | 0 | 0 | 0 | 0 | 0 |\n",
       "\n"
      ],
      "text/plain": [
       "      [,1] [,2] [,3] [,4] [,5] [,6] [,7] [,8] [,9] [,10]\n",
       " [1,] 0    1    0    1    0    1    0    1    0    1    \n",
       " [2,] 1    1    1    1    1    1    1    1    1    1    \n",
       " [3,] 1    1    1    1    1    1    1    1    1    1    \n",
       " [4,] 0    1    0    1    0    1    0    1    0    1    \n",
       " [5,] 1    1    1    1    1    1    1    1    1    1    \n",
       " [6,] 1    1    1    1    1    1    1    1    1    1    \n",
       " [7,] 1    0    1    0    1    0    1    0    1    0    \n",
       " [8,] 1    0    1    0    1    0    1    0    1    0    \n",
       " [9,] 0    1    0    1    0    1    0    1    0    1    \n",
       "[10,] 0    0    0    0    0    0    0    0    0    0    \n",
       "[11,] 0    0    0    0    0    0    0    0    0    0    \n",
       "[12,] 0    0    0    0    0    0    0    0    0    0    \n",
       "[13,] 0    0    0    0    0    0    0    0    0    0    \n",
       "[14,] 0    0    0    0    0    0    0    0    0    0    \n",
       "[15,] 0    0    0    0    0    0    0    0    0    0    "
      ]
     },
     "metadata": {},
     "output_type": "display_data"
    },
    {
     "name": "stdout",
     "output_type": "stream",
     "text": [
      "[1] Running Bayesian Hierarchical Clustering....\n",
      "[1] \"DataType: multinomial\"\n",
      "[1] Optimising global hyperparameter...\n",
      "[1]   0.7687604 -84.4090814\n",
      "[1]   1.239052 -89.085001\n",
      "[1]   0.4354271 -78.7084679\n",
      "[1]   0.4354271 -78.7084679\n",
      "[1]   0.4354271 -78.7084679\n",
      "[1] Hyperparameter: 0.435427068248563\n",
      "[1] Lower bound on overall LogEvidence: -7.8708e+01\n",
      "[1] *******************\n"
     ]
    }
   ],
   "source": [
    "\n",
    "data         <- matrix(0,15,10)\n",
    "itemLabels   <- vector(\"character\",15)\n",
    "data[1:5,]   <- sample(0:1,10, replace=TRUE,prob=c(0.1,0.9)); itemLabels[1:5]  <- \"a\"\n",
    "data[6:10,]   <- sample(0:1,10, replace=TRUE,prob=c(0.5,0.5)); itemLabels[6:10]   <- \"b\"\n",
    "data[11:15,]   <- sample(0:1,10, replace=TRUE,prob=c(0.9,0.1)); itemLabels[11:15]   <- \"c\"\n",
    "#data[6:10,]  <- 2 ; itemLabels[6:10]  <- \"b\"\n",
    "#data[11:15,] <- 3 ; itemLabels[11:15] <- \"c\"\n",
    "#data[1:5,]\n",
    "data\n",
    "##DATA DIMENSIONS\n",
    "nDataItems <- nrow(data)\n",
    "nFeatures  <- ncol(data)\n",
    "\n",
    "##RUN MULTINOMIAL CLUSTERING\n",
    "hc1 <- bhc(data, itemLabels, verbose=TRUE)\n",
    "\n"
   ]
  },
  {
   "cell_type": "code",
   "execution_count": 6,
   "metadata": {},
   "outputs": [
    {
     "data": {
      "image/png": "[encoded data removed]",
      "text/plain": [
       "plot without title"
      ]
     },
     "metadata": {
      "image/png": {
       "height": 420,
       "width": 420
      }
     },
     "output_type": "display_data"
    }
   ],
   "source": [
    "#Dendogram plot\n",
    "plot(hc1, axes=FALSE)"
   ]
  },
  {
   "cell_type": "code",
   "execution_count": 7,
   "metadata": {},
   "outputs": [
    {
     "name": "stdout",
     "output_type": "stream",
     "text": [
      "[1] ---CLUSTER 1 ---\n",
      "[1] b\n",
      "[1] a\n",
      "[1] a\n",
      "[1] a\n",
      "[1] ---CLUSTER 2 ---\n",
      "[1] b\n",
      "[1] b\n",
      "[1] ---CLUSTER 3 ---\n",
      "[1] b\n",
      "[1] a\n",
      "[1] a\n",
      "[1] ---CLUSTER 4 ---\n",
      "[1] c\n",
      "[1] c\n",
      "[1] c\n",
      "[1] c\n",
      "[1] b\n",
      "[1] c\n"
     ]
    }
   ],
   "source": [
    "#write out clusters\n",
    "WriteOutClusterLabels(hc1, 'basecase.txt', verbose=TRUE)"
   ]
  },
  {
   "cell_type": "code",
   "execution_count": 8,
   "metadata": {},
   "outputs": [
    {
     "data": {
      "text/html": [
       "<table>\n",
       "<caption>A matrix: 15 × 50 of type dbl</caption>\n",
       "<tbody>\n",
       "\t<tr><td>1</td><td>1</td><td>1</td><td>1</td><td>1</td><td>1</td><td>1</td><td>1</td><td>1</td><td>1</td><td>⋯</td><td>1</td><td>1</td><td>1</td><td>1</td><td>1</td><td>1</td><td>1</td><td>1</td><td>0</td><td>1</td></tr>\n",
       "\t<tr><td>1</td><td>1</td><td>1</td><td>1</td><td>1</td><td>1</td><td>1</td><td>1</td><td>1</td><td>1</td><td>⋯</td><td>1</td><td>1</td><td>1</td><td>1</td><td>1</td><td>1</td><td>1</td><td>1</td><td>1</td><td>1</td></tr>\n",
       "\t<tr><td>1</td><td>1</td><td>0</td><td>1</td><td>1</td><td>1</td><td>1</td><td>1</td><td>1</td><td>1</td><td>⋯</td><td>1</td><td>1</td><td>1</td><td>1</td><td>1</td><td>1</td><td>1</td><td>1</td><td>0</td><td>1</td></tr>\n",
       "\t<tr><td>1</td><td>1</td><td>1</td><td>1</td><td>1</td><td>1</td><td>1</td><td>1</td><td>1</td><td>1</td><td>⋯</td><td>1</td><td>1</td><td>1</td><td>0</td><td>1</td><td>1</td><td>1</td><td>1</td><td>1</td><td>1</td></tr>\n",
       "\t<tr><td>1</td><td>1</td><td>1</td><td>0</td><td>1</td><td>1</td><td>1</td><td>0</td><td>1</td><td>1</td><td>⋯</td><td>1</td><td>1</td><td>1</td><td>1</td><td>0</td><td>0</td><td>1</td><td>1</td><td>1</td><td>1</td></tr>\n",
       "\t<tr><td>1</td><td>0</td><td>1</td><td>0</td><td>1</td><td>0</td><td>1</td><td>0</td><td>1</td><td>1</td><td>⋯</td><td>1</td><td>1</td><td>0</td><td>1</td><td>0</td><td>0</td><td>1</td><td>1</td><td>1</td><td>1</td></tr>\n",
       "\t<tr><td>0</td><td>1</td><td>0</td><td>0</td><td>0</td><td>0</td><td>0</td><td>1</td><td>0</td><td>1</td><td>⋯</td><td>1</td><td>1</td><td>0</td><td>0</td><td>0</td><td>0</td><td>0</td><td>1</td><td>1</td><td>0</td></tr>\n",
       "\t<tr><td>1</td><td>1</td><td>0</td><td>0</td><td>1</td><td>1</td><td>1</td><td>1</td><td>1</td><td>0</td><td>⋯</td><td>1</td><td>0</td><td>1</td><td>0</td><td>1</td><td>1</td><td>0</td><td>0</td><td>1</td><td>1</td></tr>\n",
       "\t<tr><td>0</td><td>1</td><td>1</td><td>0</td><td>1</td><td>1</td><td>1</td><td>0</td><td>1</td><td>1</td><td>⋯</td><td>1</td><td>0</td><td>0</td><td>0</td><td>1</td><td>0</td><td>1</td><td>0</td><td>1</td><td>1</td></tr>\n",
       "\t<tr><td>0</td><td>1</td><td>0</td><td>0</td><td>1</td><td>1</td><td>0</td><td>0</td><td>1</td><td>1</td><td>⋯</td><td>0</td><td>0</td><td>0</td><td>0</td><td>1</td><td>1</td><td>1</td><td>1</td><td>1</td><td>0</td></tr>\n",
       "\t<tr><td>0</td><td>0</td><td>0</td><td>0</td><td>0</td><td>0</td><td>0</td><td>1</td><td>0</td><td>0</td><td>⋯</td><td>0</td><td>0</td><td>0</td><td>0</td><td>1</td><td>0</td><td>0</td><td>1</td><td>0</td><td>0</td></tr>\n",
       "\t<tr><td>1</td><td>0</td><td>1</td><td>0</td><td>0</td><td>0</td><td>0</td><td>1</td><td>1</td><td>0</td><td>⋯</td><td>0</td><td>0</td><td>0</td><td>0</td><td>0</td><td>0</td><td>1</td><td>0</td><td>0</td><td>0</td></tr>\n",
       "\t<tr><td>0</td><td>0</td><td>0</td><td>0</td><td>1</td><td>1</td><td>0</td><td>0</td><td>0</td><td>0</td><td>⋯</td><td>0</td><td>0</td><td>0</td><td>0</td><td>0</td><td>0</td><td>0</td><td>0</td><td>0</td><td>1</td></tr>\n",
       "\t<tr><td>1</td><td>0</td><td>0</td><td>0</td><td>0</td><td>1</td><td>0</td><td>0</td><td>0</td><td>0</td><td>⋯</td><td>0</td><td>0</td><td>0</td><td>0</td><td>0</td><td>0</td><td>0</td><td>0</td><td>0</td><td>0</td></tr>\n",
       "\t<tr><td>0</td><td>0</td><td>0</td><td>0</td><td>0</td><td>0</td><td>0</td><td>0</td><td>0</td><td>0</td><td>⋯</td><td>0</td><td>1</td><td>0</td><td>0</td><td>0</td><td>0</td><td>0</td><td>1</td><td>0</td><td>0</td></tr>\n",
       "</tbody>\n",
       "</table>\n"
      ],
      "text/latex": [
       "A matrix: 15 × 50 of type dbl\n",
       "\\begin{tabular}{lllllllllllllllllllll}\n",
       "\t 1 & 1 & 1 & 1 & 1 & 1 & 1 & 1 & 1 & 1 & ⋯ & 1 & 1 & 1 & 1 & 1 & 1 & 1 & 1 & 0 & 1\\\\\n",
       "\t 1 & 1 & 1 & 1 & 1 & 1 & 1 & 1 & 1 & 1 & ⋯ & 1 & 1 & 1 & 1 & 1 & 1 & 1 & 1 & 1 & 1\\\\\n",
       "\t 1 & 1 & 0 & 1 & 1 & 1 & 1 & 1 & 1 & 1 & ⋯ & 1 & 1 & 1 & 1 & 1 & 1 & 1 & 1 & 0 & 1\\\\\n",
       "\t 1 & 1 & 1 & 1 & 1 & 1 & 1 & 1 & 1 & 1 & ⋯ & 1 & 1 & 1 & 0 & 1 & 1 & 1 & 1 & 1 & 1\\\\\n",
       "\t 1 & 1 & 1 & 0 & 1 & 1 & 1 & 0 & 1 & 1 & ⋯ & 1 & 1 & 1 & 1 & 0 & 0 & 1 & 1 & 1 & 1\\\\\n",
       "\t 1 & 0 & 1 & 0 & 1 & 0 & 1 & 0 & 1 & 1 & ⋯ & 1 & 1 & 0 & 1 & 0 & 0 & 1 & 1 & 1 & 1\\\\\n",
       "\t 0 & 1 & 0 & 0 & 0 & 0 & 0 & 1 & 0 & 1 & ⋯ & 1 & 1 & 0 & 0 & 0 & 0 & 0 & 1 & 1 & 0\\\\\n",
       "\t 1 & 1 & 0 & 0 & 1 & 1 & 1 & 1 & 1 & 0 & ⋯ & 1 & 0 & 1 & 0 & 1 & 1 & 0 & 0 & 1 & 1\\\\\n",
       "\t 0 & 1 & 1 & 0 & 1 & 1 & 1 & 0 & 1 & 1 & ⋯ & 1 & 0 & 0 & 0 & 1 & 0 & 1 & 0 & 1 & 1\\\\\n",
       "\t 0 & 1 & 0 & 0 & 1 & 1 & 0 & 0 & 1 & 1 & ⋯ & 0 & 0 & 0 & 0 & 1 & 1 & 1 & 1 & 1 & 0\\\\\n",
       "\t 0 & 0 & 0 & 0 & 0 & 0 & 0 & 1 & 0 & 0 & ⋯ & 0 & 0 & 0 & 0 & 1 & 0 & 0 & 1 & 0 & 0\\\\\n",
       "\t 1 & 0 & 1 & 0 & 0 & 0 & 0 & 1 & 1 & 0 & ⋯ & 0 & 0 & 0 & 0 & 0 & 0 & 1 & 0 & 0 & 0\\\\\n",
       "\t 0 & 0 & 0 & 0 & 1 & 1 & 0 & 0 & 0 & 0 & ⋯ & 0 & 0 & 0 & 0 & 0 & 0 & 0 & 0 & 0 & 1\\\\\n",
       "\t 1 & 0 & 0 & 0 & 0 & 1 & 0 & 0 & 0 & 0 & ⋯ & 0 & 0 & 0 & 0 & 0 & 0 & 0 & 0 & 0 & 0\\\\\n",
       "\t 0 & 0 & 0 & 0 & 0 & 0 & 0 & 0 & 0 & 0 & ⋯ & 0 & 1 & 0 & 0 & 0 & 0 & 0 & 1 & 0 & 0\\\\\n",
       "\\end{tabular}\n"
      ],
      "text/markdown": [
       "\n",
       "A matrix: 15 × 50 of type dbl\n",
       "\n",
       "| 1 | 1 | 1 | 1 | 1 | 1 | 1 | 1 | 1 | 1 | ⋯ | 1 | 1 | 1 | 1 | 1 | 1 | 1 | 1 | 0 | 1 |\n",
       "| 1 | 1 | 1 | 1 | 1 | 1 | 1 | 1 | 1 | 1 | ⋯ | 1 | 1 | 1 | 1 | 1 | 1 | 1 | 1 | 1 | 1 |\n",
       "| 1 | 1 | 0 | 1 | 1 | 1 | 1 | 1 | 1 | 1 | ⋯ | 1 | 1 | 1 | 1 | 1 | 1 | 1 | 1 | 0 | 1 |\n",
       "| 1 | 1 | 1 | 1 | 1 | 1 | 1 | 1 | 1 | 1 | ⋯ | 1 | 1 | 1 | 0 | 1 | 1 | 1 | 1 | 1 | 1 |\n",
       "| 1 | 1 | 1 | 0 | 1 | 1 | 1 | 0 | 1 | 1 | ⋯ | 1 | 1 | 1 | 1 | 0 | 0 | 1 | 1 | 1 | 1 |\n",
       "| 1 | 0 | 1 | 0 | 1 | 0 | 1 | 0 | 1 | 1 | ⋯ | 1 | 1 | 0 | 1 | 0 | 0 | 1 | 1 | 1 | 1 |\n",
       "| 0 | 1 | 0 | 0 | 0 | 0 | 0 | 1 | 0 | 1 | ⋯ | 1 | 1 | 0 | 0 | 0 | 0 | 0 | 1 | 1 | 0 |\n",
       "| 1 | 1 | 0 | 0 | 1 | 1 | 1 | 1 | 1 | 0 | ⋯ | 1 | 0 | 1 | 0 | 1 | 1 | 0 | 0 | 1 | 1 |\n",
       "| 0 | 1 | 1 | 0 | 1 | 1 | 1 | 0 | 1 | 1 | ⋯ | 1 | 0 | 0 | 0 | 1 | 0 | 1 | 0 | 1 | 1 |\n",
       "| 0 | 1 | 0 | 0 | 1 | 1 | 0 | 0 | 1 | 1 | ⋯ | 0 | 0 | 0 | 0 | 1 | 1 | 1 | 1 | 1 | 0 |\n",
       "| 0 | 0 | 0 | 0 | 0 | 0 | 0 | 1 | 0 | 0 | ⋯ | 0 | 0 | 0 | 0 | 1 | 0 | 0 | 1 | 0 | 0 |\n",
       "| 1 | 0 | 1 | 0 | 0 | 0 | 0 | 1 | 1 | 0 | ⋯ | 0 | 0 | 0 | 0 | 0 | 0 | 1 | 0 | 0 | 0 |\n",
       "| 0 | 0 | 0 | 0 | 1 | 1 | 0 | 0 | 0 | 0 | ⋯ | 0 | 0 | 0 | 0 | 0 | 0 | 0 | 0 | 0 | 1 |\n",
       "| 1 | 0 | 0 | 0 | 0 | 1 | 0 | 0 | 0 | 0 | ⋯ | 0 | 0 | 0 | 0 | 0 | 0 | 0 | 0 | 0 | 0 |\n",
       "| 0 | 0 | 0 | 0 | 0 | 0 | 0 | 0 | 0 | 0 | ⋯ | 0 | 1 | 0 | 0 | 0 | 0 | 0 | 1 | 0 | 0 |\n",
       "\n"
      ],
      "text/plain": [
       "      [,1] [,2] [,3] [,4] [,5] [,6] [,7] [,8] [,9] [,10] [,11] [,12] [,13]\n",
       " [1,] 1    1    1    1    1    1    1    1    1    1     <U+22EF> 1     1    \n",
       " [2,] 1    1    1    1    1    1    1    1    1    1     <U+22EF> 1     1    \n",
       " [3,] 1    1    0    1    1    1    1    1    1    1     <U+22EF> 1     1    \n",
       " [4,] 1    1    1    1    1    1    1    1    1    1     <U+22EF> 1     1    \n",
       " [5,] 1    1    1    0    1    1    1    0    1    1     <U+22EF> 1     1    \n",
       " [6,] 1    0    1    0    1    0    1    0    1    1     <U+22EF> 1     1    \n",
       " [7,] 0    1    0    0    0    0    0    1    0    1     <U+22EF> 1     1    \n",
       " [8,] 1    1    0    0    1    1    1    1    1    0     <U+22EF> 1     0    \n",
       " [9,] 0    1    1    0    1    1    1    0    1    1     <U+22EF> 1     0    \n",
       "[10,] 0    1    0    0    1    1    0    0    1    1     <U+22EF> 0     0    \n",
       "[11,] 0    0    0    0    0    0    0    1    0    0     <U+22EF> 0     0    \n",
       "[12,] 1    0    1    0    0    0    0    1    1    0     <U+22EF> 0     0    \n",
       "[13,] 0    0    0    0    1    1    0    0    0    0     <U+22EF> 0     0    \n",
       "[14,] 1    0    0    0    0    1    0    0    0    0     <U+22EF> 0     0    \n",
       "[15,] 0    0    0    0    0    0    0    0    0    0     <U+22EF> 0     1    \n",
       "      [,14] [,15] [,16] [,17] [,18] [,19] [,20] [,21]\n",
       " [1,] 1     1     1     1     1     1     0     1    \n",
       " [2,] 1     1     1     1     1     1     1     1    \n",
       " [3,] 1     1     1     1     1     1     0     1    \n",
       " [4,] 1     0     1     1     1     1     1     1    \n",
       " [5,] 1     1     0     0     1     1     1     1    \n",
       " [6,] 0     1     0     0     1     1     1     1    \n",
       " [7,] 0     0     0     0     0     1     1     0    \n",
       " [8,] 1     0     1     1     0     0     1     1    \n",
       " [9,] 0     0     1     0     1     0     1     1    \n",
       "[10,] 0     0     1     1     1     1     1     0    \n",
       "[11,] 0     0     1     0     0     1     0     0    \n",
       "[12,] 0     0     0     0     1     0     0     0    \n",
       "[13,] 0     0     0     0     0     0     0     1    \n",
       "[14,] 0     0     0     0     0     0     0     0    \n",
       "[15,] 0     0     0     0     0     1     0     0    "
      ]
     },
     "metadata": {},
     "output_type": "display_data"
    },
    {
     "name": "stdout",
     "output_type": "stream",
     "text": [
      "[1] Running Bayesian Hierarchical Clustering....\n",
      "[1] \"DataType: multinomial\"\n",
      "[1] Optimising global hyperparameter...\n",
      "[1]    1.072949 -440.134610\n",
      "[1]    1.427051 -442.227448\n",
      "[1]    1.072949 -440.134610\n",
      "[1]    1.072949 -440.134610\n",
      "[1] Hyperparameter: 1.07294901687516\n",
      "[1] Lower bound on overall LogEvidence: -4.4013e+02\n",
      "[1] *******************\n"
     ]
    }
   ],
   "source": [
    "data         <- matrix(0,15,50)\n",
    "itemLabels   <- vector(\"character\",15)\n",
    "data[1:5,]   <- sample(0:1,250, replace=TRUE,prob=c(0.1,0.9)); itemLabels[1:5]  <- \"a\"\n",
    "data[6:10,]   <- sample(0:1,250, replace=TRUE,prob=c(0.5,0.5)); itemLabels[6:10]   <- \"b\"\n",
    "data[11:15,]   <- sample(0:1,250, replace=TRUE,prob=c(0.9,0.1)); itemLabels[11:15]   <- \"c\"\n",
    "#data[6:10,]  <- 2 ; itemLabels[6:10]  <- \"b\"\n",
    "#data[11:15,] <- 3 ; itemLabels[11:15] <- \"c\"\n",
    "#data[1:5,]\n",
    "data\n",
    "##DATA DIMENSIONS\n",
    "nDataItems <- nrow(data)\n",
    "nFeatures  <- ncol(data)\n",
    "\n",
    "##RUN MULTINOMIAL CLUSTERING\n",
    "hc1 <- bhc(data, itemLabels, verbose=TRUE)"
   ]
  },
  {
   "cell_type": "code",
   "execution_count": 9,
   "metadata": {},
   "outputs": [
    {
     "data": {
      "image/png": "[encoded data removed]",
      "text/plain": [
       "plot without title"
      ]
     },
     "metadata": {
      "image/png": {
       "height": 420,
       "width": 420
      }
     },
     "output_type": "display_data"
    }
   ],
   "source": [
    "plot(hc1, axes=FALSE)"
   ]
  },
  {
   "cell_type": "code",
   "execution_count": 10,
   "metadata": {},
   "outputs": [
    {
     "name": "stdout",
     "output_type": "stream",
     "text": [
      "[1] ---CLUSTER 1 ---\n",
      "[1] a\n",
      "[1] a\n",
      "[1] a\n",
      "[1] a\n",
      "[1] a\n",
      "[1] ---CLUSTER 2 ---\n",
      "[1] c\n",
      "[1] c\n",
      "[1] c\n",
      "[1] c\n",
      "[1] c\n",
      "[1] ---CLUSTER 3 ---\n",
      "[1] b\n",
      "[1] b\n",
      "[1] ---CLUSTER 4 ---\n",
      "[1] b\n",
      "[1] b\n",
      "[1] b\n"
     ]
    }
   ],
   "source": [
    "#write out clusters\n",
    "WriteOutClusterLabels(hc1, 'basecasemoreinstances.txt', verbose=TRUE)"
   ]
  },
  {
   "cell_type": "markdown",
   "metadata": {},
   "source": [
    "## Conclusions"
   ]
  },
  {
   "cell_type": "markdown",
   "metadata": {},
   "source": [
    "###  How strongly does the algorithm clustering adhere to the hypothesis that the data coming from the distribution model with same parameters should be in similar cluster"
   ]
  },
  {
   "cell_type": "markdown",
   "metadata": {},
   "source": [
    "### Why has the model performed when we have taken different distributions altogether? Why has it placed the beta distributions in one cluster although within the same distribution, parameters were different?\n",
    "\n"
   ]
  },
  {
   "cell_type": "markdown",
   "metadata": {},
   "source": [
    "### Why the alogrithm crashes when we take individual points and not as time series of points coming from a distribution?"
   ]
  },
  {
   "cell_type": "markdown",
   "metadata": {},
   "source": [
    "### Could more features or data points in one row could be helpful in clear clustering"
   ]
  },
  {
   "cell_type": "markdown",
   "metadata": {},
   "source": [
    "### Does giving class names as having some ordinal property affect the result in any way if we also add cluster class as one of the features"
   ]
  },
  {
   "cell_type": "code",
   "execution_count": null,
   "metadata": {},
   "outputs": [],
   "source": []
  }
 ],
 "metadata": {
  "kernelspec": {
   "display_name": "R",
   "language": "R",
   "name": "ir"
  },
  "language_info": {
   "codemirror_mode": "r",
   "file_extension": ".r",
   "mimetype": "text/x-r-source",
   "name": "R",
   "pygments_lexer": "r",
   "version": "4.0.3"
  }
 },
 "nbformat": 4,
 "nbformat_minor": 4
}
